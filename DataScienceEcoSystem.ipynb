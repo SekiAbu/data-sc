{
 "cells": [
  {
   "cell_type": "markdown",
   "id": "e02d8015-3382-41f8-a0e8-0669d7c68921",
   "metadata": {
    "tags": []
   },
   "source": [
    "#  Data science tools and Ecosytem"
   ]
  },
  {
   "cell_type": "markdown",
   "id": "8d2a0e6b-7d5c-4d3f-a376-203d968e4001",
   "metadata": {},
   "source": [
    "In this notebook, Data Science Tools and Ecosystem are summarized."
   ]
  },
  {
   "cell_type": "markdown",
   "id": "a76c3ba7-9410-46dc-bd97-60a4e4fff99f",
   "metadata": {
    "tags": []
   },
   "source": [
    "***Objectives:***\n",
    "- list popular languages for data science\n",
    "- state the commonly used libraries by Data scientists\n",
    "- list data science tools"
   ]
  },
  {
   "cell_type": "markdown",
   "id": "1fe37015-fdb3-4b6c-ad92-ed348e53b542",
   "metadata": {},
   "source": [
    "Some of the popular languages Data Scientists use are:\n",
    "1. python\n",
    "2. R\n",
    "3. SQL"
   ]
  },
  {
   "cell_type": "markdown",
   "id": "3d61cf66-72df-4609-bf83-24c7ccd6dc40",
   "metadata": {},
   "source": [
    "Some of the commonly used libraries by Data Scientists are:\n",
    "1. Pandas\n",
    "2. Matplotlib\n",
    "3. Apache Spark\n",
    "4. ggplot2"
   ]
  },
  {
   "cell_type": "markdown",
   "id": "cb8189c0-de7c-47f4-b9c5-b340ac9d2b99",
   "metadata": {
    "tags": []
   },
   "source": [
    "\n",
    "\n",
    "|Data science Tools|\n",
    "|------------------|\n",
    "|MYSQL|\n",
    "|MongoDB|\n",
    "|Apache cassandra|"
   ]
  },
  {
   "cell_type": "markdown",
   "id": "9b677219-8694-4adc-848b-72ab31e1f2ea",
   "metadata": {
    "tags": []
   },
   "source": [
    "###  Below are a few examples of evaluating Arithmetic expressions in python."
   ]
  },
  {
   "cell_type": "code",
   "execution_count": 11,
   "id": "644bf106-8287-4110-84d6-c0a5bdbcd345",
   "metadata": {
    "tags": []
   },
   "outputs": [
    {
     "data": {
      "text/plain": [
       "17"
      ]
     },
     "execution_count": 11,
     "metadata": {},
     "output_type": "execute_result"
    }
   ],
   "source": [
    "# This is a simple arithmetic expresiin to multiply then add integers:\n",
    "(3*4)+5\n"
   ]
  },
  {
   "cell_type": "code",
   "execution_count": 10,
   "id": "53b945ff-a9ae-40dc-babc-2d20c8e2b917",
   "metadata": {
    "tags": []
   },
   "outputs": [
    {
     "data": {
      "text/plain": [
       "3.3333333333333335"
      ]
     },
     "execution_count": 10,
     "metadata": {},
     "output_type": "execute_result"
    }
   ],
   "source": [
    "# coverting minutes to hours\n",
    "# This will convert 200 hours to minutes by dividing by 60\n",
    "200/60\n"
   ]
  },
  {
   "cell_type": "code",
   "execution_count": null,
   "id": "4f581590-8ade-41d7-b9ab-1029b9b89305",
   "metadata": {},
   "outputs": [],
   "source": [
    "## Author"
   ]
  },
  {
   "cell_type": "code",
   "execution_count": null,
   "id": "04ad7582-5f4a-429e-aa2c-c64853a5f115",
   "metadata": {},
   "outputs": [],
   "source": []
  }
 ],
 "metadata": {
  "kernelspec": {
   "display_name": "Python",
   "language": "python",
   "name": "conda-env-python-py"
  },
  "language_info": {
   "codemirror_mode": {
    "name": "ipython",
    "version": 3
   },
   "file_extension": ".py",
   "mimetype": "text/x-python",
   "name": "python",
   "nbconvert_exporter": "python",
   "pygments_lexer": "ipython3",
   "version": "3.7.12"
  }
 },
 "nbformat": 4,
 "nbformat_minor": 5
}
